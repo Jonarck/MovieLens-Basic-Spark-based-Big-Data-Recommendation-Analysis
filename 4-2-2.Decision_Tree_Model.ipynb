{
 "cells": [
  {
   "cell_type": "markdown",
   "id": "d2af4ed3",
   "metadata": {},
   "source": [
    "# MovieLens: Spark-based Big Data Recommendation Analysis\n",
    "\n",
    "## Task4- CONTRASTING EXPERIMENT TWO PREDICTION METHOD COMPARISON\n",
    "\n",
    "## Model2-Part2-Decision Tree Model Training\n",
    "---"
   ]
  },
  {
   "cell_type": "markdown",
   "id": "4b0413d1",
   "metadata": {},
   "source": [
    "# 1. Session Creating and Data Loading"
   ]
  },
  {
   "cell_type": "code",
   "execution_count": 1,
   "id": "e252cb38-13c7-4db4-9c23-ad1152564da6",
   "metadata": {},
   "outputs": [],
   "source": [
    "from pyspark.sql import SparkSession\n",
    "from pyspark import SparkContext, SparkConf"
   ]
  },
  {
   "cell_type": "code",
   "execution_count": 2,
   "id": "6507b326-fe0d-4022-bd8d-c3aff6af5256",
   "metadata": {},
   "outputs": [
    {
     "name": "stderr",
     "output_type": "stream",
     "text": [
      "23/12/08 05:08:35 WARN SparkSession: Using an existing Spark session; only runtime SQL configurations will take effect.\n"
     ]
    }
   ],
   "source": [
    "spark = SparkSession.builder.appName(\"Test_decisiontree\").getOrCreate()"
   ]
  },
  {
   "cell_type": "code",
   "execution_count": 3,
   "id": "3b9bd94c-ad6e-4843-8b7f-3513e1b83dd6",
   "metadata": {},
   "outputs": [
    {
     "name": "stderr",
     "output_type": "stream",
     "text": [
      "                                                                                \r"
     ]
    }
   ],
   "source": [
    "import time\n",
    "\n",
    "df_1 = spark.read.csv(\"gs://dataproc-staging-asia-southeast2-933547737015-zijhgarf/final.csv\"\n",
    "                      , inferSchema=True, header=True)"
   ]
  },
  {
   "cell_type": "code",
   "execution_count": 4,
   "id": "d87623a1-e93d-4220-a081-b174a04d13f1",
   "metadata": {},
   "outputs": [
    {
     "name": "stdout",
     "output_type": "stream",
     "text": [
      "root\n",
      " |-- _c0: integer (nullable = true)\n",
      " |-- userId: integer (nullable = true)\n",
      " |-- movieId: integer (nullable = true)\n",
      " |-- rating: double (nullable = true)\n",
      " |-- timestamp: integer (nullable = true)\n",
      " |-- user_avg_rating: double (nullable = true)\n",
      " |-- user_avg_rating_squared: double (nullable = true)\n",
      " |-- user_min_rating: double (nullable = true)\n",
      " |-- user_max_rating: double (nullable = true)\n",
      " |-- user_median_rating: double (nullable = true)\n",
      " |-- user_rating_range: double (nullable = true)\n",
      " |-- user_rating_std: double (nullable = true)\n",
      " |-- user_num_movies_rated: integer (nullable = true)\n",
      " |-- user_num_movies_rated_squared: integer (nullable = true)\n",
      " |-- title: string (nullable = true)\n",
      " |-- Adventure: double (nullable = true)\n",
      " |-- Animation: double (nullable = true)\n",
      " |-- Children: double (nullable = true)\n",
      " |-- Comedy: double (nullable = true)\n",
      " |-- Fantasy: double (nullable = true)\n",
      " |-- Romance: double (nullable = true)\n",
      " |-- Drama: double (nullable = true)\n",
      " |-- Action: double (nullable = true)\n",
      " |-- Crime: double (nullable = true)\n",
      " |-- Thriller: double (nullable = true)\n",
      " |-- Horror: double (nullable = true)\n",
      " |-- Mystery: double (nullable = true)\n",
      " |-- Sci-Fi: double (nullable = true)\n",
      " |-- IMAX: double (nullable = true)\n",
      " |-- Documentary: double (nullable = true)\n",
      " |-- War: double (nullable = true)\n",
      " |-- Musical: double (nullable = true)\n",
      " |-- Western: double (nullable = true)\n",
      " |-- Film-Noir: double (nullable = true)\n",
      " |-- 1870.0: double (nullable = true)\n",
      " |-- 1880.0: double (nullable = true)\n",
      " |-- 1890.0: double (nullable = true)\n",
      " |-- 1900.0: double (nullable = true)\n",
      " |-- 1910.0: double (nullable = true)\n",
      " |-- 1920.0: double (nullable = true)\n",
      " |-- 1930.0: double (nullable = true)\n",
      " |-- 1940.0: double (nullable = true)\n",
      " |-- 1950.0: double (nullable = true)\n",
      " |-- 1960.0: double (nullable = true)\n",
      " |-- 1970.0: double (nullable = true)\n",
      " |-- 1980.0: double (nullable = true)\n",
      " |-- 1990.0: double (nullable = true)\n",
      " |-- 2000.0: double (nullable = true)\n",
      " |-- 2010.0: double (nullable = true)\n",
      "\n"
     ]
    }
   ],
   "source": [
    "df_1.printSchema()"
   ]
  },
  {
   "cell_type": "code",
   "execution_count": 5,
   "id": "59fee1ee-3423-493d-a587-dba0d585b2b6",
   "metadata": {},
   "outputs": [
    {
     "name": "stdout",
     "output_type": "stream",
     "text": [
      "root\n",
      " |-- userId: integer (nullable = true)\n",
      " |-- movieId: integer (nullable = true)\n",
      " |-- rating: double (nullable = true)\n",
      " |-- timestamp: integer (nullable = true)\n",
      " |-- user_avg_rating: double (nullable = true)\n",
      " |-- user_avg_rating_squared: double (nullable = true)\n",
      " |-- user_min_rating: double (nullable = true)\n",
      " |-- user_max_rating: double (nullable = true)\n",
      " |-- user_median_rating: double (nullable = true)\n",
      " |-- user_rating_range: double (nullable = true)\n",
      " |-- user_rating_std: double (nullable = true)\n",
      " |-- user_num_movies_rated: integer (nullable = true)\n",
      " |-- user_num_movies_rated_squared: integer (nullable = true)\n",
      " |-- title: string (nullable = true)\n",
      " |-- Adventure: double (nullable = true)\n",
      " |-- Animation: double (nullable = true)\n",
      " |-- Children: double (nullable = true)\n",
      " |-- Comedy: double (nullable = true)\n",
      " |-- Fantasy: double (nullable = true)\n",
      " |-- Romance: double (nullable = true)\n",
      " |-- Drama: double (nullable = true)\n",
      " |-- Action: double (nullable = true)\n",
      " |-- Crime: double (nullable = true)\n",
      " |-- Thriller: double (nullable = true)\n",
      " |-- Horror: double (nullable = true)\n",
      " |-- Mystery: double (nullable = true)\n",
      " |-- Sci-Fi: double (nullable = true)\n",
      " |-- IMAX: double (nullable = true)\n",
      " |-- Documentary: double (nullable = true)\n",
      " |-- War: double (nullable = true)\n",
      " |-- Musical: double (nullable = true)\n",
      " |-- Western: double (nullable = true)\n",
      " |-- Film-Noir: double (nullable = true)\n",
      " |-- 1870.0: double (nullable = true)\n",
      " |-- 1880.0: double (nullable = true)\n",
      " |-- 1890.0: double (nullable = true)\n",
      " |-- 1900.0: double (nullable = true)\n",
      " |-- 1910.0: double (nullable = true)\n",
      " |-- 1920.0: double (nullable = true)\n",
      " |-- 1930.0: double (nullable = true)\n",
      " |-- 1940.0: double (nullable = true)\n",
      " |-- 1950.0: double (nullable = true)\n",
      " |-- 1960.0: double (nullable = true)\n",
      " |-- 1970.0: double (nullable = true)\n",
      " |-- 1980.0: double (nullable = true)\n",
      " |-- 1990.0: double (nullable = true)\n",
      " |-- 2000.0: double (nullable = true)\n",
      " |-- 2010.0: double (nullable = true)\n",
      "\n"
     ]
    }
   ],
   "source": [
    "df_1=df_1.drop('_c0')\n",
    "df_1.printSchema()"
   ]
  },
  {
   "cell_type": "markdown",
   "id": "45a0b882",
   "metadata": {},
   "source": [
    "# 2. Feature Selection"
   ]
  },
  {
   "cell_type": "code",
   "execution_count": 7,
   "id": "e7ce722b-a530-40f8-a4cd-e389876e9cf1",
   "metadata": {},
   "outputs": [],
   "source": [
    "from pyspark.sql.functions import col, concat_ws\n",
    "from pyspark.ml.feature import VectorAssembler\n",
    "\n",
    "# Feature Colum Selection\n",
    "selected_cols = ['rating', 'user_avg_rating', 'user_min_rating', 'user_max_rating',\n",
    "       'user_median_rating', 'user_rating_range', 'user_rating_std',\n",
    "       'user_num_movies_rated']  # 选择你需要的特征列\n",
    "\n",
    "# data = data.na.fill(0)\n",
    "\n",
    "data = df_1.select(selected_cols)\n",
    "\n",
    "# 将特征列合并为一个稠密向量\n",
    "assembler = VectorAssembler(inputCols=data.columns[1:], outputCol=\"features\")\n",
    "data = assembler.transform(data)\n",
    "\n",
    "selected_col = ['rating', 'features'] \n",
    "data = data.select(selected_col)"
   ]
  },
  {
   "cell_type": "code",
   "execution_count": 8,
   "id": "bf56b060-6258-485b-907a-378038e6782f",
   "metadata": {},
   "outputs": [
    {
     "name": "stderr",
     "output_type": "stream",
     "text": [
      "[Stage 2:>                                                          (0 + 1) / 1]\r"
     ]
    },
    {
     "name": "stdout",
     "output_type": "stream",
     "text": [
      "[Row(rating=5.0, features=DenseVector([3.8143, 0.5, 5.0, 4.0, 4.5, 1.0042, 70.0])), Row(rating=3.5, features=DenseVector([3.8143, 0.5, 5.0, 4.0, 4.5, 1.0042, 70.0]))]\n"
     ]
    },
    {
     "name": "stderr",
     "output_type": "stream",
     "text": [
      "                                                                                \r"
     ]
    }
   ],
   "source": [
    "print(data.head(2))"
   ]
  },
  {
   "cell_type": "code",
   "execution_count": 9,
   "id": "193c2814-173c-4c20-817f-7a1ec22a1733",
   "metadata": {},
   "outputs": [
    {
     "name": "stdout",
     "output_type": "stream",
     "text": [
      "root\n",
      " |-- label: double (nullable = true)\n",
      " |-- features: vector (nullable = true)\n",
      "\n"
     ]
    }
   ],
   "source": [
    "data = data.withColumnRenamed(\"rating\", \"label\")\n",
    "\n",
    "data.printSchema()"
   ]
  },
  {
   "cell_type": "code",
   "execution_count": 10,
   "id": "33b66934-191d-45a0-a80c-58b6d313e8b4",
   "metadata": {},
   "outputs": [
    {
     "name": "stderr",
     "output_type": "stream",
     "text": [
      "[Stage 3:>                                                          (0 + 1) / 1]\r"
     ]
    },
    {
     "name": "stdout",
     "output_type": "stream",
     "text": [
      "[Row(label=5.0, features=DenseVector([3.8143, 0.5, 5.0, 4.0, 4.5, 1.0042, 70.0])), Row(label=3.5, features=DenseVector([3.8143, 0.5, 5.0, 4.0, 4.5, 1.0042, 70.0]))]\n"
     ]
    },
    {
     "name": "stderr",
     "output_type": "stream",
     "text": [
      "                                                                                \r"
     ]
    }
   ],
   "source": [
    "print(data.head(2))"
   ]
  },
  {
   "cell_type": "code",
   "execution_count": 11,
   "id": "6dc6d707-9d05-460a-bba3-818e1ba418b8",
   "metadata": {},
   "outputs": [],
   "source": [
    "# 假设 df 是你的 Spark DataFrame\n",
    "# 使用指定的值（例如 0）填充所有列中的空值\n",
    "data = data.na.fill(0)"
   ]
  },
  {
   "cell_type": "markdown",
   "id": "0b21ef84",
   "metadata": {},
   "source": [
    "# 3.Model Trainning"
   ]
  },
  {
   "cell_type": "code",
   "execution_count": 12,
   "id": "abc0dd1f-10a6-4803-82f7-5d333c9e31fc",
   "metadata": {},
   "outputs": [
    {
     "name": "stderr",
     "output_type": "stream",
     "text": [
      "                                                                                \r"
     ]
    },
    {
     "name": "stdout",
     "output_type": "stream",
     "text": [
      "+------------------+-----+--------------------+\n",
      "|        prediction|label|            features|\n",
      "+------------------+-----+--------------------+\n",
      "|1.4513215859030837|  0.5|[0.66666666666666...|\n",
      "|1.4513215859030837|  0.5|[0.66666666666666...|\n",
      "|1.4513215859030837|  0.5|[0.66666666666666...|\n",
      "|1.4513215859030837|  0.5|[1.05293440736478...|\n",
      "|1.4513215859030837|  0.5|[1.05293440736478...|\n",
      "+------------------+-----+--------------------+\n",
      "only showing top 5 rows\n",
      "\n"
     ]
    },
    {
     "name": "stderr",
     "output_type": "stream",
     "text": [
      "[Stage 21:======================================================> (51 + 1) / 52]\r"
     ]
    },
    {
     "name": "stdout",
     "output_type": "stream",
     "text": [
      "Root Mean Squared Error (RMSE) on test data = 0.947499\n",
      "DecisionTreeRegressionModel: uid=DecisionTreeRegressor_03ad6ab44f83, depth=5, numNodes=63, numFeatures=7\n",
      "Cluster模式下代码执行时间为：442.3557200431824秒\n"
     ]
    },
    {
     "name": "stderr",
     "output_type": "stream",
     "text": [
      "                                                                                \r"
     ]
    }
   ],
   "source": [
    "from pyspark.ml import Pipeline\n",
    "from pyspark.ml.regression import DecisionTreeRegressor\n",
    "from pyspark.ml.feature import VectorIndexer\n",
    "from pyspark.ml.evaluation import RegressionEvaluator\n",
    "\n",
    "import time \n",
    "start=time.time()\n",
    "# Automatically identify categorical features, and index them.\n",
    "# We specify maxCategories so features with > 4 distinct values are treated as continuous.\n",
    "featureIndexer =\\\n",
    "    VectorIndexer(inputCol=\"features\", outputCol=\"indexedFeatures\", maxCategories=4).fit(data)\n",
    "\n",
    "# Split the data into training and test sets (30% held out for testing)\n",
    "(trainingData, testData) = data.randomSplit([0.7, 0.3], seed=0)\n",
    "\n",
    "# Train a DecisionTree model.\n",
    "dt = DecisionTreeRegressor(featuresCol=\"indexedFeatures\")\n",
    "\n",
    "# Chain indexer and tree in a Pipeline\n",
    "pipeline = Pipeline(stages=[featureIndexer, dt])\n",
    "\n",
    "# Train model.  This also runs the indexer.\n",
    "model = pipeline.fit(trainingData)\n",
    "\n",
    "# Make predictions.\n",
    "predictions = model.transform(testData)\n",
    "\n",
    "# Select example rows to display.\n",
    "predictions.select(\"prediction\", \"label\", \"features\").show(5)\n",
    "\n",
    "# Select (prediction, true label) and compute test error\n",
    "evaluator = RegressionEvaluator(\n",
    "    labelCol=\"label\", predictionCol=\"prediction\", metricName=\"rmse\")\n",
    "rmse = evaluator.evaluate(predictions)\n",
    "print(\"Root Mean Squared Error (RMSE) on test data = %g\" % rmse)\n",
    "\n",
    "treeModel = model.stages[1]\n",
    "# summary only\n",
    "print(treeModel)\n",
    "\n",
    "end=time.time()\n",
    "\n",
    "execution=end-start\n",
    "print(f\"Cluster模式下代码执行时间为：{execution}秒\")"
   ]
  },
  {
   "cell_type": "code",
   "execution_count": 13,
   "id": "8b722439-d1db-487e-b44f-354ff1d2c612",
   "metadata": {},
   "outputs": [],
   "source": [
    "spark.stop()"
   ]
  }
 ],
 "metadata": {
  "kernelspec": {
   "display_name": "Python 3 (ipykernel)",
   "language": "python",
   "name": "python3"
  },
  "language_info": {
   "codemirror_mode": {
    "name": "ipython",
    "version": 3
   },
   "file_extension": ".py",
   "mimetype": "text/x-python",
   "name": "python",
   "nbconvert_exporter": "python",
   "pygments_lexer": "ipython3",
   "version": "3.11.4"
  }
 },
 "nbformat": 4,
 "nbformat_minor": 5
}
